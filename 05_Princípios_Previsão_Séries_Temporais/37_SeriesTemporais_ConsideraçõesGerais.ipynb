{
 "cells": [
  {
   "cell_type": "raw",
   "id": "a7298406-60d1-4f41-ab71-1fc53dd1ce64",
   "metadata": {},
   "source": [
    "Previsão\n",
    "\n",
    "métodos comprovadamente eficientes\n",
    "prever não significa estar sujeita a erros"
   ]
  },
  {
   "cell_type": "raw",
   "id": "9554a1d8-9469-4e08-9d40-d79e3e6ee0bd",
   "metadata": {},
   "source": [
    "Com prever usando Séries Temporais\n",
    ". usando os próprios dados - séries temporais puras\n",
    ". usando outras variáveis - modelo explanatório\n",
    ". usando as duas técnicas - modelo misto"
   ]
  },
  {
   "cell_type": "raw",
   "id": "9dcac80a-fccd-4968-a1f9-29e6def3ea88",
   "metadata": {},
   "source": [
    "Regressão x Séries Temporais\n",
    ". na regressão em geral, a previsão pode significar extrapolação, mas também dados entre os itervalos já conhecidos\n",
    ". previsão em séries temporais univariadas significam extrapolação"
   ]
  },
  {
   "cell_type": "raw",
   "id": "3de81cbd-8a00-4430-aaed-aa416535c8ac",
   "metadata": {},
   "source": [
    "Um Bom Modelo\n",
    ". avaliar residuais\n",
    ". avaliar performance (MAE, RMSE, etc)\n",
    ". avaliar métricas (AIC, BIC, etc)\n",
    "\n",
    "Dicas Gerais\n",
    ". residuais em conformidade não indicam por si só um bom modelo\n",
    ". um primeiro modelo bom, provavelmente pode ser melhorado\n",
    ". inteligência inclui a capacidade de escolher as informações relevantes (seleção de variáveis)"
   ]
  },
  {
   "cell_type": "code",
   "execution_count": null,
   "id": "8521f1f4-2966-4f6a-8a1d-c80555b6e47a",
   "metadata": {},
   "outputs": [],
   "source": []
  }
 ],
 "metadata": {
  "kernelspec": {
   "display_name": "Python 3",
   "language": "python",
   "name": "python3"
  },
  "language_info": {
   "codemirror_mode": {
    "name": "ipython",
    "version": 3
   },
   "file_extension": ".py",
   "mimetype": "text/x-python",
   "name": "python",
   "nbconvert_exporter": "python",
   "pygments_lexer": "ipython3",
   "version": "3.8.8"
  }
 },
 "nbformat": 4,
 "nbformat_minor": 5
}
