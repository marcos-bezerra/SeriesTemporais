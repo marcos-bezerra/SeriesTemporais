{
 "cells": [
  {
   "cell_type": "markdown",
   "metadata": {},
   "source": [
    "# Modelo LSTM para prever dados de ações\n",
    "Prof. Fernando Amaral"
   ]
  },
  {
   "cell_type": "code",
   "execution_count": 1,
   "metadata": {},
   "outputs": [],
   "source": [
    "# Importando as bibliotecas\n",
    "import pandas as pd\n",
    "import numpy as np\n",
    "import matplotlib.pyplot as plt\n",
    "from tensorflow.keras.models import Sequential\n",
    "from tensorflow.keras.layers import Dense, LSTM, Dropout\n",
    "from sklearn.preprocessing import MinMaxScaler\n",
    "import math\n",
    "import matplotlib.pyplot as plt\n",
    "\n",
    "%matplotlib inline\n",
    "from matplotlib.pylab import rcParams\n",
    "rcParams['figure.figsize'] = 12,6\n",
    "\n",
    "import warnings\n",
    "warnings.filterwarnings('ignore')"
   ]
  },
  {
   "cell_type": "code",
   "execution_count": 2,
   "metadata": {},
   "outputs": [],
   "source": [
    "# Carregando os dados\n",
    "df = pd.read_csv('/Users/marcos/Documents/00_Git_Projetos/SeriesTemporais/SeriesTemporais_Python/Download/Dados/all-stocks-5yr.csv')"
   ]
  },
  {
   "cell_type": "code",
   "execution_count": 3,
   "metadata": {},
   "outputs": [
    {
     "data": {
      "text/plain": [
       "(619040, 7)"
      ]
     },
     "execution_count": 3,
     "metadata": {},
     "output_type": "execute_result"
    }
   ],
   "source": [
    "# Dimensão do dataframe\n",
    "df.shape"
   ]
  },
  {
   "cell_type": "code",
   "execution_count": 4,
   "metadata": {},
   "outputs": [
    {
     "data": {
      "text/html": [
       "<div>\n",
       "<style scoped>\n",
       "    .dataframe tbody tr th:only-of-type {\n",
       "        vertical-align: middle;\n",
       "    }\n",
       "\n",
       "    .dataframe tbody tr th {\n",
       "        vertical-align: top;\n",
       "    }\n",
       "\n",
       "    .dataframe thead th {\n",
       "        text-align: right;\n",
       "    }\n",
       "</style>\n",
       "<table border=\"1\" class=\"dataframe\">\n",
       "  <thead>\n",
       "    <tr style=\"text-align: right;\">\n",
       "      <th></th>\n",
       "      <th>date</th>\n",
       "      <th>open</th>\n",
       "      <th>high</th>\n",
       "      <th>low</th>\n",
       "      <th>close</th>\n",
       "      <th>volume</th>\n",
       "      <th>Name</th>\n",
       "    </tr>\n",
       "  </thead>\n",
       "  <tbody>\n",
       "    <tr>\n",
       "      <th>0</th>\n",
       "      <td>2013-02-08</td>\n",
       "      <td>15.07</td>\n",
       "      <td>15.12</td>\n",
       "      <td>14.63</td>\n",
       "      <td>14.75</td>\n",
       "      <td>8407500</td>\n",
       "      <td>AAL</td>\n",
       "    </tr>\n",
       "    <tr>\n",
       "      <th>1</th>\n",
       "      <td>2013-02-11</td>\n",
       "      <td>14.89</td>\n",
       "      <td>15.01</td>\n",
       "      <td>14.26</td>\n",
       "      <td>14.46</td>\n",
       "      <td>8882000</td>\n",
       "      <td>AAL</td>\n",
       "    </tr>\n",
       "    <tr>\n",
       "      <th>2</th>\n",
       "      <td>2013-02-12</td>\n",
       "      <td>14.45</td>\n",
       "      <td>14.51</td>\n",
       "      <td>14.10</td>\n",
       "      <td>14.27</td>\n",
       "      <td>8126000</td>\n",
       "      <td>AAL</td>\n",
       "    </tr>\n",
       "    <tr>\n",
       "      <th>3</th>\n",
       "      <td>2013-02-13</td>\n",
       "      <td>14.30</td>\n",
       "      <td>14.94</td>\n",
       "      <td>14.25</td>\n",
       "      <td>14.66</td>\n",
       "      <td>10259500</td>\n",
       "      <td>AAL</td>\n",
       "    </tr>\n",
       "    <tr>\n",
       "      <th>4</th>\n",
       "      <td>2013-02-14</td>\n",
       "      <td>14.94</td>\n",
       "      <td>14.96</td>\n",
       "      <td>13.16</td>\n",
       "      <td>13.99</td>\n",
       "      <td>31879900</td>\n",
       "      <td>AAL</td>\n",
       "    </tr>\n",
       "  </tbody>\n",
       "</table>\n",
       "</div>"
      ],
      "text/plain": [
       "         date   open   high    low  close    volume Name\n",
       "0  2013-02-08  15.07  15.12  14.63  14.75   8407500  AAL\n",
       "1  2013-02-11  14.89  15.01  14.26  14.46   8882000  AAL\n",
       "2  2013-02-12  14.45  14.51  14.10  14.27   8126000  AAL\n",
       "3  2013-02-13  14.30  14.94  14.25  14.66  10259500  AAL\n",
       "4  2013-02-14  14.94  14.96  13.16  13.99  31879900  AAL"
      ]
     },
     "execution_count": 4,
     "metadata": {},
     "output_type": "execute_result"
    }
   ],
   "source": [
    "# Visualizando as primeiras 5 linhas\n",
    "df.head()"
   ]
  },
  {
   "cell_type": "code",
   "execution_count": 5,
   "metadata": {},
   "outputs": [
    {
     "name": "stdout",
     "output_type": "stream",
     "text": [
      "<class 'pandas.core.frame.DataFrame'>\n",
      "RangeIndex: 619040 entries, 0 to 619039\n",
      "Data columns (total 7 columns):\n",
      " #   Column  Non-Null Count   Dtype  \n",
      "---  ------  --------------   -----  \n",
      " 0   date    619040 non-null  object \n",
      " 1   open    619029 non-null  float64\n",
      " 2   high    619032 non-null  float64\n",
      " 3   low     619032 non-null  float64\n",
      " 4   close   619040 non-null  float64\n",
      " 5   volume  619040 non-null  int64  \n",
      " 6   Name    619040 non-null  object \n",
      "dtypes: float64(4), int64(1), object(2)\n",
      "memory usage: 33.1+ MB\n"
     ]
    }
   ],
   "source": [
    "df.info()"
   ]
  },
  {
   "cell_type": "code",
   "execution_count": 5,
   "metadata": {},
   "outputs": [],
   "source": [
    "# Carregando em uma variável os nomes das empresas\n",
    "companies = df.Name.unique()"
   ]
  },
  {
   "cell_type": "code",
   "execution_count": 6,
   "metadata": {},
   "outputs": [
    {
     "name": "stdout",
     "output_type": "stream",
     "text": [
      "<class 'pandas.core.frame.DataFrame'>\n",
      "Int64Index: 1259 entries, 617781 to 619039\n",
      "Data columns (total 7 columns):\n",
      " #   Column  Non-Null Count  Dtype  \n",
      "---  ------  --------------  -----  \n",
      " 0   date    1259 non-null   object \n",
      " 1   open    1259 non-null   float64\n",
      " 2   high    1259 non-null   float64\n",
      " 3   low     1259 non-null   float64\n",
      " 4   close   1259 non-null   float64\n",
      " 5   volume  1259 non-null   int64  \n",
      " 6   Name    1259 non-null   object \n",
      "dtypes: float64(4), int64(1), object(2)\n",
      "memory usage: 78.7+ KB\n"
     ]
    }
   ],
   "source": [
    "# Filtrar os valores de uma empresa específica\n",
    "z = df.loc[df['Name'] == 'ZTS']\n",
    "z.info()"
   ]
  },
  {
   "cell_type": "code",
   "execution_count": 7,
   "metadata": {},
   "outputs": [
    {
     "data": {
      "text/html": [
       "<div>\n",
       "<style scoped>\n",
       "    .dataframe tbody tr th:only-of-type {\n",
       "        vertical-align: middle;\n",
       "    }\n",
       "\n",
       "    .dataframe tbody tr th {\n",
       "        vertical-align: top;\n",
       "    }\n",
       "\n",
       "    .dataframe thead th {\n",
       "        text-align: right;\n",
       "    }\n",
       "</style>\n",
       "<table border=\"1\" class=\"dataframe\">\n",
       "  <thead>\n",
       "    <tr style=\"text-align: right;\">\n",
       "      <th></th>\n",
       "      <th>date</th>\n",
       "      <th>open</th>\n",
       "      <th>high</th>\n",
       "      <th>low</th>\n",
       "      <th>close</th>\n",
       "      <th>volume</th>\n",
       "      <th>Name</th>\n",
       "    </tr>\n",
       "  </thead>\n",
       "  <tbody>\n",
       "    <tr>\n",
       "      <th>617781</th>\n",
       "      <td>2013-02-08</td>\n",
       "      <td>32.31</td>\n",
       "      <td>33.48</td>\n",
       "      <td>32.30</td>\n",
       "      <td>33.05</td>\n",
       "      <td>2599232</td>\n",
       "      <td>ZTS</td>\n",
       "    </tr>\n",
       "    <tr>\n",
       "      <th>617782</th>\n",
       "      <td>2013-02-11</td>\n",
       "      <td>33.06</td>\n",
       "      <td>33.50</td>\n",
       "      <td>32.88</td>\n",
       "      <td>33.26</td>\n",
       "      <td>1486115</td>\n",
       "      <td>ZTS</td>\n",
       "    </tr>\n",
       "    <tr>\n",
       "      <th>617783</th>\n",
       "      <td>2013-02-12</td>\n",
       "      <td>33.40</td>\n",
       "      <td>34.00</td>\n",
       "      <td>33.15</td>\n",
       "      <td>33.74</td>\n",
       "      <td>1637279</td>\n",
       "      <td>ZTS</td>\n",
       "    </tr>\n",
       "    <tr>\n",
       "      <th>617784</th>\n",
       "      <td>2013-02-13</td>\n",
       "      <td>33.80</td>\n",
       "      <td>33.80</td>\n",
       "      <td>33.00</td>\n",
       "      <td>33.55</td>\n",
       "      <td>1269625</td>\n",
       "      <td>ZTS</td>\n",
       "    </tr>\n",
       "    <tr>\n",
       "      <th>617785</th>\n",
       "      <td>2013-02-14</td>\n",
       "      <td>33.39</td>\n",
       "      <td>33.45</td>\n",
       "      <td>32.77</td>\n",
       "      <td>33.27</td>\n",
       "      <td>2954324</td>\n",
       "      <td>ZTS</td>\n",
       "    </tr>\n",
       "  </tbody>\n",
       "</table>\n",
       "</div>"
      ],
      "text/plain": [
       "              date   open   high    low  close   volume Name\n",
       "617781  2013-02-08  32.31  33.48  32.30  33.05  2599232  ZTS\n",
       "617782  2013-02-11  33.06  33.50  32.88  33.26  1486115  ZTS\n",
       "617783  2013-02-12  33.40  34.00  33.15  33.74  1637279  ZTS\n",
       "617784  2013-02-13  33.80  33.80  33.00  33.55  1269625  ZTS\n",
       "617785  2013-02-14  33.39  33.45  32.77  33.27  2954324  ZTS"
      ]
     },
     "execution_count": 7,
     "metadata": {},
     "output_type": "execute_result"
    }
   ],
   "source": [
    "# Visualizando os primeiros valores\n",
    "z.head()"
   ]
  },
  {
   "cell_type": "code",
   "execution_count": 8,
   "metadata": {},
   "outputs": [],
   "source": [
    "# filtrar os valores de 4 a 5\n",
    "trainingd = z.iloc[:,4:5].values"
   ]
  },
  {
   "cell_type": "code",
   "execution_count": 9,
   "metadata": {},
   "outputs": [
    {
     "data": {
      "text/plain": [
       "(1259, 1)"
      ]
     },
     "execution_count": 9,
     "metadata": {},
     "output_type": "execute_result"
    }
   ],
   "source": [
    "trainingd.shape"
   ]
  },
  {
   "cell_type": "code",
   "execution_count": 10,
   "metadata": {},
   "outputs": [
    {
     "name": "stdout",
     "output_type": "stream",
     "text": [
      "[[33.05]\n",
      " [33.26]\n",
      " [33.74]\n",
      " ...\n",
      " [73.83]\n",
      " [73.27]\n",
      " [73.86]]\n"
     ]
    }
   ],
   "source": [
    "print(trainingd)"
   ]
  },
  {
   "cell_type": "code",
   "execution_count": 11,
   "metadata": {},
   "outputs": [],
   "source": [
    "# Normalização\n",
    "from sklearn.preprocessing import MinMaxScaler\n",
    "sc = MinMaxScaler()\n",
    "training_set_scaled = sc.fit_transform(trainingd)"
   ]
  },
  {
   "cell_type": "code",
   "execution_count": 12,
   "metadata": {},
   "outputs": [],
   "source": [
    "# Armazenar os valores de fechamento dos últimos 45 dias (x_train) e do dia corrente (y_train)\n",
    "x_train = []\n",
    "y_train = []\n",
    "timestamp = 45\n",
    "length = len(trainingd)\n",
    "for i in range(timestamp, length):\n",
    "    x_train.append(training_set_scaled[i-timestamp:i, 0])\n",
    "    y_train.append(training_set_scaled[i, 0])\n",
    "\n",
    "x_train = np.array(x_train) # formato que o keras utilizada\n",
    "y_train = np.array(y_train)"
   ]
  },
  {
   "cell_type": "code",
   "execution_count": 13,
   "metadata": {},
   "outputs": [
    {
     "name": "stdout",
     "output_type": "stream",
     "text": [
      "[0.08995937 0.09402205 0.10330818 0.09963242 0.09421552 0.10795125\n",
      " 0.10524279 0.08357516 0.08047978 0.08106017 0.07100019 0.07041981\n",
      " 0.07583672 0.09769781 0.11994583 0.11510931 0.11394854 0.10543625\n",
      " 0.11917199 0.11007932 0.11182047 0.10485587 0.10833817 0.12071967\n",
      " 0.09750435 0.08589669 0.08512285 0.09885858 0.09808474 0.0913136\n",
      " 0.07854517 0.07951248 0.08396208 0.09673051 0.08106017 0.08028632\n",
      " 0.0798994  0.06655059 0.06887212 0.08744438 0.09750435 0.09189398\n",
      " 0.09208744 0.09344167 0.07428903]\n",
      "\n",
      "\n",
      "0.0930547494679822\n"
     ]
    }
   ],
   "source": [
    "# visualizando os dados\n",
    "print (x_train[0])\n",
    "print ('\\n')\n",
    "print (y_train[0])"
   ]
  },
  {
   "cell_type": "code",
   "execution_count": 14,
   "metadata": {},
   "outputs": [
    {
     "data": {
      "text/plain": [
       "(1214, 45, 1)"
      ]
     },
     "execution_count": 14,
     "metadata": {},
     "output_type": "execute_result"
    }
   ],
   "source": [
    "# \n",
    "x_train = np.reshape(x_train, (x_train.shape[0], x_train.shape[1], 1))\n",
    "x_train.shape"
   ]
  },
  {
   "cell_type": "code",
   "execution_count": 15,
   "metadata": {},
   "outputs": [],
   "source": [
    "# Definindo a rede neural\n",
    "model = Sequential() \n",
    "\n",
    "model.add(LSTM(units = 120, return_sequences = True, input_shape = (x_train.shape[1], 1))) \n",
    "model.add(Dropout(0.2))\n",
    "model.add(LSTM(units = 120, return_sequences = True))\n",
    "model.add(Dropout(0.2))\n",
    "model.add(LSTM(units = 120, return_sequences = True))\n",
    "model.add(Dropout(0.2))\n",
    "model.add(LSTM(units = 120, return_sequences = False)) \n",
    "model.add(Dropout(0.2))\n",
    "model.add(Dense(units = 1)) \n",
    "model.compile(optimizer = 'adam', loss = 'mean_squared_error')"
   ]
  },
  {
   "cell_type": "code",
   "execution_count": 16,
   "metadata": {},
   "outputs": [
    {
     "name": "stdout",
     "output_type": "stream",
     "text": [
      "Epoch 1/25\n",
      "38/38 [==============================] - 33s 486ms/step - loss: 0.0180\n",
      "Epoch 2/25\n",
      "38/38 [==============================] - 18s 474ms/step - loss: 0.0023\n",
      "Epoch 3/25\n",
      "38/38 [==============================] - 25s 658ms/step - loss: 0.0022\n",
      "Epoch 4/25\n",
      "38/38 [==============================] - 24s 633ms/step - loss: 0.0019\n",
      "Epoch 5/25\n",
      "38/38 [==============================] - 22s 586ms/step - loss: 0.0021\n",
      "Epoch 6/25\n",
      "38/38 [==============================] - 16s 407ms/step - loss: 0.0021\n",
      "Epoch 7/25\n",
      "38/38 [==============================] - 10s 261ms/step - loss: 0.0020\n",
      "Epoch 8/25\n",
      "38/38 [==============================] - 10s 251ms/step - loss: 0.0019\n",
      "Epoch 9/25\n",
      "38/38 [==============================] - 9s 248ms/step - loss: 0.0016\n",
      "Epoch 10/25\n",
      "38/38 [==============================] - 9s 246ms/step - loss: 0.0017\n",
      "Epoch 11/25\n",
      "38/38 [==============================] - 9s 246ms/step - loss: 0.0016\n",
      "Epoch 12/25\n",
      "38/38 [==============================] - 10s 252ms/step - loss: 0.0015\n",
      "Epoch 13/25\n",
      "38/38 [==============================] - 10s 256ms/step - loss: 0.0017\n",
      "Epoch 14/25\n",
      "38/38 [==============================] - 10s 252ms/step - loss: 0.0015\n",
      "Epoch 15/25\n",
      "38/38 [==============================] - 10s 256ms/step - loss: 0.0014\n",
      "Epoch 16/25\n",
      "38/38 [==============================] - 10s 251ms/step - loss: 0.0013\n",
      "Epoch 17/25\n",
      "38/38 [==============================] - 9s 248ms/step - loss: 0.0018\n",
      "Epoch 18/25\n",
      "38/38 [==============================] - 10s 250ms/step - loss: 0.0014\n",
      "Epoch 19/25\n",
      "38/38 [==============================] - 9s 245ms/step - loss: 0.0014\n",
      "Epoch 20/25\n",
      "38/38 [==============================] - 9s 248ms/step - loss: 0.0011\n",
      "Epoch 21/25\n",
      "38/38 [==============================] - 10s 251ms/step - loss: 0.0018\n",
      "Epoch 22/25\n",
      "38/38 [==============================] - 9s 248ms/step - loss: 0.0013\n",
      "Epoch 23/25\n",
      "38/38 [==============================] - 9s 246ms/step - loss: 0.0013\n",
      "Epoch 24/25\n",
      "38/38 [==============================] - 9s 245ms/step - loss: 0.0012\n",
      "Epoch 25/25\n",
      "38/38 [==============================] - 9s 247ms/step - loss: 0.0010\n"
     ]
    },
    {
     "data": {
      "text/plain": [
       "<keras.callbacks.History at 0x7fb8e9eee4c0>"
      ]
     },
     "execution_count": 16,
     "metadata": {},
     "output_type": "execute_result"
    }
   ],
   "source": [
    "#\n",
    "model.fit(x_train, y_train, epochs = 25, batch_size = 32)"
   ]
  },
  {
   "cell_type": "code",
   "execution_count": 35,
   "metadata": {},
   "outputs": [],
   "source": [
    "# extraindo as informações da empresa \"BA\"\n",
    "test_set = df.loc[df['Name'] == 'BA']"
   ]
  },
  {
   "cell_type": "code",
   "execution_count": 36,
   "metadata": {},
   "outputs": [
    {
     "data": {
      "text/html": [
       "<div>\n",
       "<style scoped>\n",
       "    .dataframe tbody tr th:only-of-type {\n",
       "        vertical-align: middle;\n",
       "    }\n",
       "\n",
       "    .dataframe tbody tr th {\n",
       "        vertical-align: top;\n",
       "    }\n",
       "\n",
       "    .dataframe thead th {\n",
       "        text-align: right;\n",
       "    }\n",
       "</style>\n",
       "<table border=\"1\" class=\"dataframe\">\n",
       "  <thead>\n",
       "    <tr style=\"text-align: right;\">\n",
       "      <th></th>\n",
       "      <th>date</th>\n",
       "      <th>open</th>\n",
       "      <th>high</th>\n",
       "      <th>low</th>\n",
       "      <th>close</th>\n",
       "      <th>volume</th>\n",
       "      <th>Name</th>\n",
       "    </tr>\n",
       "  </thead>\n",
       "  <tbody>\n",
       "    <tr>\n",
       "      <th>75388</th>\n",
       "      <td>2013-02-08</td>\n",
       "      <td>77.24</td>\n",
       "      <td>77.395</td>\n",
       "      <td>76.280</td>\n",
       "      <td>76.56</td>\n",
       "      <td>5100424</td>\n",
       "      <td>BA</td>\n",
       "    </tr>\n",
       "    <tr>\n",
       "      <th>75389</th>\n",
       "      <td>2013-02-11</td>\n",
       "      <td>76.42</td>\n",
       "      <td>76.440</td>\n",
       "      <td>75.850</td>\n",
       "      <td>75.87</td>\n",
       "      <td>3677036</td>\n",
       "      <td>BA</td>\n",
       "    </tr>\n",
       "    <tr>\n",
       "      <th>75390</th>\n",
       "      <td>2013-02-12</td>\n",
       "      <td>76.06</td>\n",
       "      <td>76.250</td>\n",
       "      <td>75.830</td>\n",
       "      <td>75.99</td>\n",
       "      <td>3597463</td>\n",
       "      <td>BA</td>\n",
       "    </tr>\n",
       "    <tr>\n",
       "      <th>75391</th>\n",
       "      <td>2013-02-13</td>\n",
       "      <td>75.67</td>\n",
       "      <td>75.830</td>\n",
       "      <td>74.625</td>\n",
       "      <td>74.78</td>\n",
       "      <td>4313460</td>\n",
       "      <td>BA</td>\n",
       "    </tr>\n",
       "    <tr>\n",
       "      <th>75392</th>\n",
       "      <td>2013-02-14</td>\n",
       "      <td>74.69</td>\n",
       "      <td>75.310</td>\n",
       "      <td>74.540</td>\n",
       "      <td>74.93</td>\n",
       "      <td>3830371</td>\n",
       "      <td>BA</td>\n",
       "    </tr>\n",
       "  </tbody>\n",
       "</table>\n",
       "</div>"
      ],
      "text/plain": [
       "             date   open    high     low  close   volume Name\n",
       "75388  2013-02-08  77.24  77.395  76.280  76.56  5100424   BA\n",
       "75389  2013-02-11  76.42  76.440  75.850  75.87  3677036   BA\n",
       "75390  2013-02-12  76.06  76.250  75.830  75.99  3597463   BA\n",
       "75391  2013-02-13  75.67  75.830  74.625  74.78  4313460   BA\n",
       "75392  2013-02-14  74.69  75.310  74.540  74.93  3830371   BA"
      ]
     },
     "execution_count": 36,
     "metadata": {},
     "output_type": "execute_result"
    }
   ],
   "source": [
    "test_set.head()"
   ]
  },
  {
   "cell_type": "code",
   "execution_count": 37,
   "metadata": {},
   "outputs": [],
   "source": [
    "test_set = test_set.loc[:, test_set.columns=='close']"
   ]
  },
  {
   "cell_type": "code",
   "execution_count": 38,
   "metadata": {},
   "outputs": [
    {
     "data": {
      "text/html": [
       "<div>\n",
       "<style scoped>\n",
       "    .dataframe tbody tr th:only-of-type {\n",
       "        vertical-align: middle;\n",
       "    }\n",
       "\n",
       "    .dataframe tbody tr th {\n",
       "        vertical-align: top;\n",
       "    }\n",
       "\n",
       "    .dataframe thead th {\n",
       "        text-align: right;\n",
       "    }\n",
       "</style>\n",
       "<table border=\"1\" class=\"dataframe\">\n",
       "  <thead>\n",
       "    <tr style=\"text-align: right;\">\n",
       "      <th></th>\n",
       "      <th>close</th>\n",
       "    </tr>\n",
       "  </thead>\n",
       "  <tbody>\n",
       "    <tr>\n",
       "      <th>75388</th>\n",
       "      <td>76.56</td>\n",
       "    </tr>\n",
       "    <tr>\n",
       "      <th>75389</th>\n",
       "      <td>75.87</td>\n",
       "    </tr>\n",
       "    <tr>\n",
       "      <th>75390</th>\n",
       "      <td>75.99</td>\n",
       "    </tr>\n",
       "    <tr>\n",
       "      <th>75391</th>\n",
       "      <td>74.78</td>\n",
       "    </tr>\n",
       "    <tr>\n",
       "      <th>75392</th>\n",
       "      <td>74.93</td>\n",
       "    </tr>\n",
       "  </tbody>\n",
       "</table>\n",
       "</div>"
      ],
      "text/plain": [
       "       close\n",
       "75388  76.56\n",
       "75389  75.87\n",
       "75390  75.99\n",
       "75391  74.78\n",
       "75392  74.93"
      ]
     },
     "execution_count": 38,
     "metadata": {},
     "output_type": "execute_result"
    }
   ],
   "source": [
    "test_set.head()"
   ]
  },
  {
   "cell_type": "code",
   "execution_count": 39,
   "metadata": {},
   "outputs": [],
   "source": [
    "# \n",
    "y_test = test_set.iloc[timestamp:,0:].values"
   ]
  },
  {
   "cell_type": "code",
   "execution_count": 40,
   "metadata": {},
   "outputs": [
    {
     "data": {
      "text/plain": [
       "array([[ 86.89],\n",
       "       [ 86.69],\n",
       "       [ 86.12],\n",
       "       ...,\n",
       "       [328.88],\n",
       "       [340.91],\n",
       "       [348.12]])"
      ]
     },
     "execution_count": 40,
     "metadata": {},
     "output_type": "execute_result"
    }
   ],
   "source": [
    "y_test"
   ]
  },
  {
   "cell_type": "code",
   "execution_count": 19,
   "metadata": {},
   "outputs": [],
   "source": [
    "# \n",
    "closing_price = test_set.iloc[:,0:].values\n",
    "closing_price_scaled = sc.transform(closing_price)"
   ]
  },
  {
   "cell_type": "code",
   "execution_count": 29,
   "metadata": {},
   "outputs": [
    {
     "data": {
      "text/plain": [
       "array([[ 76.56],\n",
       "       [ 75.87],\n",
       "       [ 75.99],\n",
       "       ...,\n",
       "       [328.88],\n",
       "       [340.91],\n",
       "       [348.12]])"
      ]
     },
     "execution_count": 29,
     "metadata": {},
     "output_type": "execute_result"
    }
   ],
   "source": [
    "closing_price"
   ]
  },
  {
   "cell_type": "code",
   "execution_count": 30,
   "metadata": {},
   "outputs": [
    {
     "data": {
      "text/plain": [
       "array([[0.93170826],\n",
       "       [0.91835945],\n",
       "       [0.92068098],\n",
       "       ...,\n",
       "       [5.81311666],\n",
       "       [6.04585026],\n",
       "       [6.18533565]])"
      ]
     },
     "execution_count": 30,
     "metadata": {},
     "output_type": "execute_result"
    }
   ],
   "source": [
    "closing_price_scaled"
   ]
  },
  {
   "cell_type": "code",
   "execution_count": 20,
   "metadata": {},
   "outputs": [
    {
     "data": {
      "text/plain": [
       "(1214, 45)"
      ]
     },
     "execution_count": 20,
     "metadata": {},
     "output_type": "execute_result"
    }
   ],
   "source": [
    "#\n",
    "x_test = []\n",
    "length = len(test_set)\n",
    "\n",
    "for i in range(timestamp, length):\n",
    "    x_test.append(closing_price_scaled[i-timestamp:i,0])\n",
    "\n",
    "x_test = np.array(x_test)\n",
    "x_test.shape"
   ]
  },
  {
   "cell_type": "code",
   "execution_count": 21,
   "metadata": {},
   "outputs": [
    {
     "data": {
      "text/plain": [
       "(1214, 45, 1)"
      ]
     },
     "execution_count": 21,
     "metadata": {},
     "output_type": "execute_result"
    }
   ],
   "source": [
    "#\n",
    "x_test = np.reshape(x_test, (x_test.shape[0], x_test.shape[1],1))\n",
    "x_test.shape"
   ]
  },
  {
   "cell_type": "code",
   "execution_count": 22,
   "metadata": {},
   "outputs": [],
   "source": [
    "# Calculando a previsão\n",
    "y_pred = model.predict(x_test)\n",
    "predicted_price = sc.inverse_transform(y_pred)"
   ]
  },
  {
   "cell_type": "code",
   "execution_count": 31,
   "metadata": {},
   "outputs": [
    {
     "data": {
      "text/plain": [
       "array([[ 87.853355],\n",
       "       [ 88.20557 ],\n",
       "       [ 88.45832 ],\n",
       "       ...,\n",
       "       [177.03485 ],\n",
       "       [177.06113 ],\n",
       "       [177.06596 ]], dtype=float32)"
      ]
     },
     "execution_count": 31,
     "metadata": {},
     "output_type": "execute_result"
    }
   ],
   "source": [
    "predicted_price"
   ]
  },
  {
   "cell_type": "code",
   "execution_count": 34,
   "metadata": {},
   "outputs": [
    {
     "data": {
      "image/png": "[encoded data removed]",
      "text/plain": [
       "<Figure size 864x432 with 1 Axes>"
      ]
     },
     "metadata": {
      "needs_background": "light"
     },
     "output_type": "display_data"
    }
   ],
   "source": [
    "# plotando os dados atual e previsto\n",
    "plt.plot(y_test, color='blue', label='Preço Atual das Ações')\n",
    "plt.plot(predicted_price, color='red', label='Preço Previsto das Ações')\n",
    "plt.title('Previsão de Preço de Ações')\n",
    "plt.xlabel('Tempo')\n",
    "plt.ylabel('Preço das Ações')\n",
    "plt.legend()\n",
    "plt.show()"
   ]
  },
  {
   "cell_type": "code",
   "execution_count": null,
   "metadata": {},
   "outputs": [],
   "source": []
  }
 ],
 "metadata": {
  "kernelspec": {
   "display_name": "Python 3",
   "language": "python",
   "name": "python3"
  },
  "language_info": {
   "codemirror_mode": {
    "name": "ipython",
    "version": 3
   },
   "file_extension": ".py",
   "mimetype": "text/x-python",
   "name": "python",
   "nbconvert_exporter": "python",
   "pygments_lexer": "ipython3",
   "version": "3.8.8"
  }
 },
 "nbformat": 4,
 "nbformat_minor": 4
}
