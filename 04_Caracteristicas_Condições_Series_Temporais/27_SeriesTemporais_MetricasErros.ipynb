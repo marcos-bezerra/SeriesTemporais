{
 "cells": [
  {
   "cell_type": "raw",
   "id": "4209eadc-c569-4edf-acc7-42e0c545d216",
   "metadata": {},
   "source": [
    "Erros\n",
    "\n",
    "> Previsão de valores numéricos (reais, inteiros)\n",
    "> Métricas diferentes da previsão de categorias\n",
    "\n",
    "Uso:\n",
    ". Regressão clássica\n",
    ". Regressão ML\n",
    ". Séries Temporais\n",
    ". etc...\n",
    "\n",
    "\n",
    "=> Medindo o Erro\n",
    "\n",
    "=> Dependentes de escala\n",
    ". ME - Mean Error\n",
    "    . média da diferença entre realizado e o previsto\n",
    "\n",
    ". MAE - Mean Absolute Erro\n",
    "    . a média da diferença absoluta entre o realizado e o previsto\n",
    "\n",
    "\n",
    "=> Independentes da escala\n",
    ". RMSE - Root Mean Squared Error \n",
    "    . o desvio padrão da amostra da diferença entre o previsto e o teste\n",
    "    . raiz quadrada do somatório do quadrado da diferença\n",
    "    \n",
    ". MPE - Mean Percentage Error\n",
    "    . somatório do % da diferença realizada\n",
    "\n",
    ". MAPE - mean absolute percentage error\n",
    "    . somatório do % absoluto da diferença realizada\n"
   ]
  },
  {
   "cell_type": "code",
   "execution_count": null,
   "id": "79b05f82-18d6-4376-8516-981f08603ce5",
   "metadata": {},
   "outputs": [],
   "source": []
  }
 ],
 "metadata": {
  "kernelspec": {
   "display_name": "Python 3",
   "language": "python",
   "name": "python3"
  },
  "language_info": {
   "codemirror_mode": {
    "name": "ipython",
    "version": 3
   },
   "file_extension": ".py",
   "mimetype": "text/x-python",
   "name": "python",
   "nbconvert_exporter": "python",
   "pygments_lexer": "ipython3",
   "version": "3.8.8"
  }
 },
 "nbformat": 4,
 "nbformat_minor": 5
}
