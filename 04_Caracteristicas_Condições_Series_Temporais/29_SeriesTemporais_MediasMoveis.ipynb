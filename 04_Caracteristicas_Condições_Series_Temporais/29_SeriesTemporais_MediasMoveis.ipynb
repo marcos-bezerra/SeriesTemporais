{
 "cells": [
  {
   "cell_type": "raw",
   "id": "7011a006-ed82-44e7-b3ab-8cb0361b3f30",
   "metadata": {},
   "source": [
    "Médias Móveis\n",
    ". processo de transformação \n",
    ". suavização da série\n",
    ". remoção de outliers\n",
    ". identificação de tendências\n",
    "\n",
    ". simples e exponencial"
   ]
  },
  {
   "cell_type": "code",
   "execution_count": null,
   "id": "28be182e-9012-4e8a-b247-8f984dd80c6c",
   "metadata": {},
   "outputs": [],
   "source": []
  }
 ],
 "metadata": {
  "kernelspec": {
   "display_name": "Python 3",
   "language": "python",
   "name": "python3"
  },
  "language_info": {
   "codemirror_mode": {
    "name": "ipython",
    "version": 3
   },
   "file_extension": ".py",
   "mimetype": "text/x-python",
   "name": "python",
   "nbconvert_exporter": "python",
   "pygments_lexer": "ipython3",
   "version": "3.8.8"
  }
 },
 "nbformat": 4,
 "nbformat_minor": 5
}
