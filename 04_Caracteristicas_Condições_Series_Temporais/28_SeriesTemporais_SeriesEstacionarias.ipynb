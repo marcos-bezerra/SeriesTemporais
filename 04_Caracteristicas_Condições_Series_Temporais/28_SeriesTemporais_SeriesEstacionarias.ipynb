{
 "cells": [
  {
   "cell_type": "raw",
   "id": "579b422e-c9c7-41e5-86c5-093c3ef1f65d",
   "metadata": {},
   "source": [
    "Série Estacionária\n",
    "\n",
    ". A média e a variância se mantêm constante durante o tempo\n",
    ". Em princício, séries com tendência e sazonalidade não são estacionárias"
   ]
  },
  {
   "cell_type": "raw",
   "id": "15e6e53a-c1b4-4fb6-81e2-2561e1749e7c",
   "metadata": {},
   "source": [
    "Porque a Estacionariedade é Importante\n",
    "\n",
    ". existem técnicas analiticas de séries temporais que dependen da estacionariedade da série para funcionarem.\n",
    "\n",
    ". se a série não é estacionária, pode-se aplicar algum tipo de transformação"
   ]
  },
  {
   "cell_type": "raw",
   "id": "73f4a61e-051e-476b-b317-38835fa807ac",
   "metadata": {},
   "source": [
    "Como saber?\n",
    "\n",
    ". visualmente\n",
    ". teste estatísticos (Dickey-Fuller, KPSS, Philips-Perron)"
   ]
  },
  {
   "cell_type": "code",
   "execution_count": null,
   "id": "25b9dd44-1e4d-4709-992f-36465a271137",
   "metadata": {},
   "outputs": [],
   "source": []
  }
 ],
 "metadata": {
  "kernelspec": {
   "display_name": "Python 3",
   "language": "python",
   "name": "python3"
  },
  "language_info": {
   "codemirror_mode": {
    "name": "ipython",
    "version": 3
   },
   "file_extension": ".py",
   "mimetype": "text/x-python",
   "name": "python",
   "nbconvert_exporter": "python",
   "pygments_lexer": "ipython3",
   "version": "3.8.8"
  }
 },
 "nbformat": 4,
 "nbformat_minor": 5
}
