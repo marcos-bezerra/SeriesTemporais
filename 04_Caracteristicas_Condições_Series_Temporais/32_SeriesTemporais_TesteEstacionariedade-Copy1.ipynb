{
 "cells": [
  {
   "cell_type": "code",
   "execution_count": 1,
   "id": "88a9a1f9-4c58-45d5-8721-1dd34dcd9328",
   "metadata": {},
   "outputs": [],
   "source": [
    "import pandas as pd\n",
    "import numpy as np\n",
    "import matplotlib.pylab as plt\n",
    "%matplotlib inline\n",
    "from pandas.plotting import register_matplotlib_converters\n",
    "register_matplotlib_converters()"
   ]
  },
  {
   "cell_type": "code",
   "execution_count": 2,
   "id": "9ff0109f-523d-45cb-96f7-425486443d84",
   "metadata": {},
   "outputs": [],
   "source": [
    "data = pd.read_csv('/Users/marcos/Documents/00_Git_Projetos/SeriesTemporais/SeriesTemporais_Python/Download/Dados/AirPassengers.csv',\n",
    "                   parse_dates=['Month'], index_col='Month') #, date_parser=dateparse)"
   ]
  },
  {
   "cell_type": "code",
   "execution_count": 5,
   "id": "7dc9968f-d8dc-44f2-93b3-c907b407b77a",
   "metadata": {},
   "outputs": [],
   "source": [
    "from statsmodels.tsa.stattools import adfuller"
   ]
  },
  {
   "cell_type": "code",
   "execution_count": 7,
   "id": "d82d1b96-f2a5-41dd-bf31-8250174eb26b",
   "metadata": {},
   "outputs": [
    {
     "name": "stdout",
     "output_type": "stream",
     "text": [
      "ADF Estatísticas: 0.815369\n",
      "Valor de P: 0.991880\n",
      "Valores Críticos: \n",
      "\t1%: -3.482\n",
      "\t5%: -2.884\n",
      "\t10%: -2.579\n"
     ]
    }
   ],
   "source": [
    "x = data['#Passengers']\n",
    "result = adfuller(x)\n",
    "print(\"ADF Estatísticas: %f\" % result[0])\n",
    "print(\"Valor de P: %f\" % result[1])\n",
    "print(\"Valores Críticos: \")\n",
    "for key, value in result[4].items():\n",
    "    print('\\t%s: %.3f' % (key,value))"
   ]
  },
  {
   "cell_type": "raw",
   "id": "9129f735-177e-40bf-afb2-97183460bfb4",
   "metadata": {},
   "source": [
    ". não é uma série estacionária\n",
    ". valor de P é maior que 0,005 ??????"
   ]
  },
  {
   "cell_type": "code",
   "execution_count": null,
   "id": "ced9572f-6161-4172-9d70-c36f9035e7da",
   "metadata": {},
   "outputs": [],
   "source": []
  }
 ],
 "metadata": {
  "kernelspec": {
   "display_name": "Python 3",
   "language": "python",
   "name": "python3"
  },
  "language_info": {
   "codemirror_mode": {
    "name": "ipython",
    "version": 3
   },
   "file_extension": ".py",
   "mimetype": "text/x-python",
   "name": "python",
   "nbconvert_exporter": "python",
   "pygments_lexer": "ipython3",
   "version": "3.8.8"
  }
 },
 "nbformat": 4,
 "nbformat_minor": 5
}
