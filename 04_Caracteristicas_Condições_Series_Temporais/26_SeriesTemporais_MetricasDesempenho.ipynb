{
 "cells": [
  {
   "cell_type": "raw",
   "id": "4209eadc-c569-4edf-acc7-42e0c545d216",
   "metadata": {},
   "source": [
    "Erros\n",
    "\n",
    "=> Diferença entre o previsto e o ocorrido\n",
    "como se mede?\n",
    ". separando dados para teste\n",
    "    . hold-out (base treino e teste)\n",
    "    . Cross Validation (teste/treino/treino/teste/...)\n",
    ". avaliando após a ocorrência do Evento\n",
    ". com os próprios dados\n",
    "\n",
    "=> Medindo o Erro\n",
    "Dependentes de escala\n",
    ". ME - Mean Error\n",
    ". MAE - Mean Absolute Erro\n",
    "\n",
    "Independentes da escala\n",
    ". RMSE - Root Mean Squared Error (raiz quadrada do somatório do quadrado da diferença)\n",
    ". MPE - Mean Percentage Error (somatório do % da diferença realizada)\n",
    ". MAPE - mean absolute percentage error(somatório do % absoluto da diferença realizada)\n",
    "\n",
    "Erros com escalas\n",
    ". MASE - mean absolute scaled error\n",
    "\n",
    "=> Seleção de Variáveis\n",
    "Equivalente a seleção de atributos em Machine Learning\n",
    "Função CV mede o modelo criado\n",
    "\n",
    ". CV*\n",
    ". AIC - Akaike's Information Criterion\n",
    ". Corrected AIC\n",
    ". Scwarz's Bayesian Information Criterion\n",
    ". Rˆ2 Ajustado\n"
   ]
  }
 ],
 "metadata": {
  "kernelspec": {
   "display_name": "Python 3",
   "language": "python",
   "name": "python3"
  },
  "language_info": {
   "codemirror_mode": {
    "name": "ipython",
    "version": 3
   },
   "file_extension": ".py",
   "mimetype": "text/x-python",
   "name": "python",
   "nbconvert_exporter": "python",
   "pygments_lexer": "ipython3",
   "version": "3.8.8"
  }
 },
 "nbformat": 4,
 "nbformat_minor": 5
}
