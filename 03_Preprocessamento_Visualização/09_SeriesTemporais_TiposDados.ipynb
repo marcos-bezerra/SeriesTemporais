{
 "cells": [
  {
   "cell_type": "markdown",
   "id": "375c98fa-9964-4154-b482-374d473aa5f8",
   "metadata": {},
   "source": [
    "Diferentes Tipos de Dados"
   ]
  },
  {
   "cell_type": "raw",
   "id": "fa8de15a-d098-4111-970b-4f5cfa81060c",
   "metadata": {},
   "source": [
    "Categórico/Qualitativo\n",
    "registra características não numéricas, como cor dos olhos, gênero...\n",
    "\n",
    "Numérico/Quantitativo\n",
    "São dados contínuos ou discretos. Números como peso, idade, altura...\n",
    "\n",
    "Dados Ordinais\n",
    "Combinam dados categóricos e numéricos. Os dados são categorizados, mas a categoria tem um significado matemático, por exemplo, avaliação de um hotem em uma escala."
   ]
  },
  {
   "cell_type": "raw",
   "id": "0a8a4344-5cf7-4429-acb7-4f314fa84e2b",
   "metadata": {},
   "source": [
    "Tipos de gráficos\n",
    ". Barras\n",
    ". Pizza / Setor\n",
    ". Linhas"
   ]
  },
  {
   "cell_type": "raw",
   "id": "c77595a9-40f5-4b17-86d5-a0b075cf8a3c",
   "metadata": {},
   "source": [
    "Dados Quantitativos\n",
    "Queremos explorar / explicar um única variável quantitativa?\n",
    "Queremos explorar / explicar mais de uma variável quantitativa (e a relação entre elas)?\n",
    "\n",
    "Variável Contínua Univariada\n",
    "Gráficos\n",
    ". Histograma\n",
    ". Boxplot"
   ]
  }
 ],
 "metadata": {
  "kernelspec": {
   "display_name": "Python 3",
   "language": "python",
   "name": "python3"
  },
  "language_info": {
   "codemirror_mode": {
    "name": "ipython",
    "version": 3
   },
   "file_extension": ".py",
   "mimetype": "text/x-python",
   "name": "python",
   "nbconvert_exporter": "python",
   "pygments_lexer": "ipython3",
   "version": "3.8.8"
  }
 },
 "nbformat": 4,
 "nbformat_minor": 5
}
