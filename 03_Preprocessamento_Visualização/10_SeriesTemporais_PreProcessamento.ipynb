{
 "cells": [
  {
   "cell_type": "code",
   "execution_count": 1,
   "id": "069a9ee5-50b3-44f2-9f9a-07fc5dd277b7",
   "metadata": {},
   "outputs": [],
   "source": [
    "import numpy as np\n",
    "import pandas as pd\n",
    "import matplotlib.pylab as plt"
   ]
  },
  {
   "cell_type": "code",
   "execution_count": 8,
   "id": "97cfa255-f503-4886-9c2e-0387c10dab1a",
   "metadata": {},
   "outputs": [],
   "source": [
    "df = pd.read_csv(\"SeriesTemporais_Python/Download/Dados/italy_earthquakes_from_2016-08-24_to_2016-11-30.csv\").set_index(\"Time\")"
   ]
  },
  {
   "cell_type": "code",
   "execution_count": 9,
   "id": "2b3f1009-59c5-492e-a653-94d264fbd7d9",
   "metadata": {},
   "outputs": [
    {
     "data": {
      "text/html": [
       "<div>\n",
       "<style scoped>\n",
       "    .dataframe tbody tr th:only-of-type {\n",
       "        vertical-align: middle;\n",
       "    }\n",
       "\n",
       "    .dataframe tbody tr th {\n",
       "        vertical-align: top;\n",
       "    }\n",
       "\n",
       "    .dataframe thead th {\n",
       "        text-align: right;\n",
       "    }\n",
       "</style>\n",
       "<table border=\"1\" class=\"dataframe\">\n",
       "  <thead>\n",
       "    <tr style=\"text-align: right;\">\n",
       "      <th></th>\n",
       "      <th>Latitude</th>\n",
       "      <th>Longitude</th>\n",
       "      <th>Depth/Km</th>\n",
       "      <th>Magnitude</th>\n",
       "    </tr>\n",
       "    <tr>\n",
       "      <th>Time</th>\n",
       "      <th></th>\n",
       "      <th></th>\n",
       "      <th></th>\n",
       "      <th></th>\n",
       "    </tr>\n",
       "  </thead>\n",
       "  <tbody>\n",
       "    <tr>\n",
       "      <th>2016-08-24 03:36:32.000</th>\n",
       "      <td>42.6983</td>\n",
       "      <td>13.2335</td>\n",
       "      <td>8.1</td>\n",
       "      <td>6.0</td>\n",
       "    </tr>\n",
       "    <tr>\n",
       "      <th>2016-08-24 03:37:26.580</th>\n",
       "      <td>42.7123</td>\n",
       "      <td>13.2533</td>\n",
       "      <td>9.0</td>\n",
       "      <td>4.5</td>\n",
       "    </tr>\n",
       "    <tr>\n",
       "      <th>2016-08-24 03:40:46.590</th>\n",
       "      <td>42.7647</td>\n",
       "      <td>13.1723</td>\n",
       "      <td>9.7</td>\n",
       "      <td>3.8</td>\n",
       "    </tr>\n",
       "    <tr>\n",
       "      <th>2016-08-24 03:41:38.900</th>\n",
       "      <td>42.7803</td>\n",
       "      <td>13.1683</td>\n",
       "      <td>9.7</td>\n",
       "      <td>3.9</td>\n",
       "    </tr>\n",
       "    <tr>\n",
       "      <th>2016-08-24 03:42:07.170</th>\n",
       "      <td>42.7798</td>\n",
       "      <td>13.1575</td>\n",
       "      <td>9.7</td>\n",
       "      <td>3.6</td>\n",
       "    </tr>\n",
       "  </tbody>\n",
       "</table>\n",
       "</div>"
      ],
      "text/plain": [
       "                         Latitude  Longitude  Depth/Km  Magnitude\n",
       "Time                                                             \n",
       "2016-08-24 03:36:32.000   42.6983    13.2335       8.1        6.0\n",
       "2016-08-24 03:37:26.580   42.7123    13.2533       9.0        4.5\n",
       "2016-08-24 03:40:46.590   42.7647    13.1723       9.7        3.8\n",
       "2016-08-24 03:41:38.900   42.7803    13.1683       9.7        3.9\n",
       "2016-08-24 03:42:07.170   42.7798    13.1575       9.7        3.6"
      ]
     },
     "execution_count": 9,
     "metadata": {},
     "output_type": "execute_result"
    }
   ],
   "source": [
    "df.head()"
   ]
  },
  {
   "cell_type": "code",
   "execution_count": 10,
   "id": "c92f70a1-ab27-4b70-bc3e-ac297c03912d",
   "metadata": {},
   "outputs": [
    {
     "data": {
      "text/plain": [
       "(8086, 4)"
      ]
     },
     "execution_count": 10,
     "metadata": {},
     "output_type": "execute_result"
    }
   ],
   "source": [
    "df.shape"
   ]
  },
  {
   "cell_type": "code",
   "execution_count": 11,
   "id": "71beaa14-8503-41ff-84fd-48b260108b70",
   "metadata": {},
   "outputs": [
    {
     "data": {
      "text/plain": [
       "Latitude     float64\n",
       "Longitude    float64\n",
       "Depth/Km     float64\n",
       "Magnitude    float64\n",
       "dtype: object"
      ]
     },
     "execution_count": 11,
     "metadata": {},
     "output_type": "execute_result"
    }
   ],
   "source": [
    "df.dtypes"
   ]
  },
  {
   "cell_type": "code",
   "execution_count": 12,
   "id": "8b6e4ebf-5e91-4b8f-b9a1-83ef78bf8a80",
   "metadata": {},
   "outputs": [
    {
     "data": {
      "text/html": [
       "<div>\n",
       "<style scoped>\n",
       "    .dataframe tbody tr th:only-of-type {\n",
       "        vertical-align: middle;\n",
       "    }\n",
       "\n",
       "    .dataframe tbody tr th {\n",
       "        vertical-align: top;\n",
       "    }\n",
       "\n",
       "    .dataframe thead th {\n",
       "        text-align: right;\n",
       "    }\n",
       "</style>\n",
       "<table border=\"1\" class=\"dataframe\">\n",
       "  <thead>\n",
       "    <tr style=\"text-align: right;\">\n",
       "      <th></th>\n",
       "      <th>Latitude</th>\n",
       "      <th>Longitude</th>\n",
       "      <th>Depth/Km</th>\n",
       "      <th>Magnitude</th>\n",
       "    </tr>\n",
       "    <tr>\n",
       "      <th>Time</th>\n",
       "      <th></th>\n",
       "      <th></th>\n",
       "      <th></th>\n",
       "      <th></th>\n",
       "    </tr>\n",
       "  </thead>\n",
       "  <tbody>\n",
       "    <tr>\n",
       "      <th>2016-08-24 03:36:32.000</th>\n",
       "      <td>42.6983</td>\n",
       "      <td>13.2335</td>\n",
       "      <td>8.1</td>\n",
       "      <td>6.0</td>\n",
       "    </tr>\n",
       "    <tr>\n",
       "      <th>2016-08-24 03:37:26.580</th>\n",
       "      <td>42.7123</td>\n",
       "      <td>13.2533</td>\n",
       "      <td>9.0</td>\n",
       "      <td>4.5</td>\n",
       "    </tr>\n",
       "    <tr>\n",
       "      <th>2016-08-24 03:40:46.590</th>\n",
       "      <td>42.7647</td>\n",
       "      <td>13.1723</td>\n",
       "      <td>9.7</td>\n",
       "      <td>3.8</td>\n",
       "    </tr>\n",
       "    <tr>\n",
       "      <th>2016-08-24 03:41:38.900</th>\n",
       "      <td>42.7803</td>\n",
       "      <td>13.1683</td>\n",
       "      <td>9.7</td>\n",
       "      <td>3.9</td>\n",
       "    </tr>\n",
       "    <tr>\n",
       "      <th>2016-08-24 03:42:07.170</th>\n",
       "      <td>42.7798</td>\n",
       "      <td>13.1575</td>\n",
       "      <td>9.7</td>\n",
       "      <td>3.6</td>\n",
       "    </tr>\n",
       "  </tbody>\n",
       "</table>\n",
       "</div>"
      ],
      "text/plain": [
       "                         Latitude  Longitude  Depth/Km  Magnitude\n",
       "Time                                                             \n",
       "2016-08-24 03:36:32.000   42.6983    13.2335       8.1        6.0\n",
       "2016-08-24 03:37:26.580   42.7123    13.2533       9.0        4.5\n",
       "2016-08-24 03:40:46.590   42.7647    13.1723       9.7        3.8\n",
       "2016-08-24 03:41:38.900   42.7803    13.1683       9.7        3.9\n",
       "2016-08-24 03:42:07.170   42.7798    13.1575       9.7        3.6"
      ]
     },
     "execution_count": 12,
     "metadata": {},
     "output_type": "execute_result"
    }
   ],
   "source": [
    "df.index = pd.to_datetime(df.index)\n",
    "df.head()"
   ]
  },
  {
   "cell_type": "code",
   "execution_count": 13,
   "id": "01f7f87e-c717-4cb9-974f-936b741c3047",
   "metadata": {},
   "outputs": [
    {
     "data": {
      "text/html": [
       "<div>\n",
       "<style scoped>\n",
       "    .dataframe tbody tr th:only-of-type {\n",
       "        vertical-align: middle;\n",
       "    }\n",
       "\n",
       "    .dataframe tbody tr th {\n",
       "        vertical-align: top;\n",
       "    }\n",
       "\n",
       "    .dataframe thead th {\n",
       "        text-align: right;\n",
       "    }\n",
       "</style>\n",
       "<table border=\"1\" class=\"dataframe\">\n",
       "  <thead>\n",
       "    <tr style=\"text-align: right;\">\n",
       "      <th></th>\n",
       "      <th>Latitude</th>\n",
       "      <th>Longitude</th>\n",
       "      <th>Depth/Km</th>\n",
       "      <th>Magnitude</th>\n",
       "    </tr>\n",
       "  </thead>\n",
       "  <tbody>\n",
       "    <tr>\n",
       "      <th>count</th>\n",
       "      <td>8086.000000</td>\n",
       "      <td>8086.000000</td>\n",
       "      <td>8086.000000</td>\n",
       "      <td>8086.000000</td>\n",
       "    </tr>\n",
       "    <tr>\n",
       "      <th>mean</th>\n",
       "      <td>42.829557</td>\n",
       "      <td>13.161034</td>\n",
       "      <td>9.968328</td>\n",
       "      <td>2.398368</td>\n",
       "    </tr>\n",
       "    <tr>\n",
       "      <th>std</th>\n",
       "      <td>0.125927</td>\n",
       "      <td>0.083058</td>\n",
       "      <td>2.194064</td>\n",
       "      <td>0.426381</td>\n",
       "    </tr>\n",
       "    <tr>\n",
       "      <th>min</th>\n",
       "      <td>41.581300</td>\n",
       "      <td>12.537700</td>\n",
       "      <td>0.200000</td>\n",
       "      <td>2.000000</td>\n",
       "    </tr>\n",
       "    <tr>\n",
       "      <th>25%</th>\n",
       "      <td>42.751350</td>\n",
       "      <td>13.103200</td>\n",
       "      <td>8.900000</td>\n",
       "      <td>2.100000</td>\n",
       "    </tr>\n",
       "    <tr>\n",
       "      <th>50%</th>\n",
       "      <td>42.821800</td>\n",
       "      <td>13.160700</td>\n",
       "      <td>9.900000</td>\n",
       "      <td>2.300000</td>\n",
       "    </tr>\n",
       "    <tr>\n",
       "      <th>75%</th>\n",
       "      <td>42.911000</td>\n",
       "      <td>13.215650</td>\n",
       "      <td>10.800000</td>\n",
       "      <td>2.600000</td>\n",
       "    </tr>\n",
       "    <tr>\n",
       "      <th>max</th>\n",
       "      <td>43.927300</td>\n",
       "      <td>13.852500</td>\n",
       "      <td>47.900000</td>\n",
       "      <td>6.500000</td>\n",
       "    </tr>\n",
       "  </tbody>\n",
       "</table>\n",
       "</div>"
      ],
      "text/plain": [
       "          Latitude    Longitude     Depth/Km    Magnitude\n",
       "count  8086.000000  8086.000000  8086.000000  8086.000000\n",
       "mean     42.829557    13.161034     9.968328     2.398368\n",
       "std       0.125927     0.083058     2.194064     0.426381\n",
       "min      41.581300    12.537700     0.200000     2.000000\n",
       "25%      42.751350    13.103200     8.900000     2.100000\n",
       "50%      42.821800    13.160700     9.900000     2.300000\n",
       "75%      42.911000    13.215650    10.800000     2.600000\n",
       "max      43.927300    13.852500    47.900000     6.500000"
      ]
     },
     "execution_count": 13,
     "metadata": {},
     "output_type": "execute_result"
    }
   ],
   "source": [
    "df.describe()"
   ]
  },
  {
   "cell_type": "code",
   "execution_count": null,
   "id": "6bca98f8-1e64-495b-9388-9f385081a2c2",
   "metadata": {},
   "outputs": [],
   "source": []
  }
 ],
 "metadata": {
  "kernelspec": {
   "display_name": "Python 3",
   "language": "python",
   "name": "python3"
  },
  "language_info": {
   "codemirror_mode": {
    "name": "ipython",
    "version": 3
   },
   "file_extension": ".py",
   "mimetype": "text/x-python",
   "name": "python",
   "nbconvert_exporter": "python",
   "pygments_lexer": "ipython3",
   "version": "3.8.8"
  }
 },
 "nbformat": 4,
 "nbformat_minor": 5
}
