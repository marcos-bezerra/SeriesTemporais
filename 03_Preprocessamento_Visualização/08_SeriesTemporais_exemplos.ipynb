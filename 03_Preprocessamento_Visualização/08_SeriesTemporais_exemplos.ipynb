{
 "cells": [
  {
   "cell_type": "markdown",
   "id": "a499a130-706f-4014-8549-638f2ad5a2f8",
   "metadata": {},
   "source": [
    "### Exemplos de Séries Temporias"
   ]
  },
  {
   "cell_type": "code",
   "execution_count": 1,
   "id": "c997b1c8-416f-4b4a-a8e0-a7ee8f5221dc",
   "metadata": {},
   "outputs": [],
   "source": [
    "from pandas import read_csv"
   ]
  },
  {
   "cell_type": "code",
   "execution_count": 4,
   "id": "88e5b270-0e50-4631-b120-4d83b2e770ae",
   "metadata": {},
   "outputs": [
    {
     "data": {
      "text/plain": [
       "Date\n",
       "1959-01-01                                   35\n",
       "1959-01-02                                   32\n",
       "1959-01-03                                   30\n",
       "1959-01-04                                   31\n",
       "1959-01-05                                   44\n",
       "                                           ... \n",
       "1959-12-28                                   52\n",
       "1959-12-29                                   48\n",
       "1959-12-30                                   55\n",
       "1959-12-31                                   50\n",
       "Daily total female births in California    1959\n",
       "Name: Daily total female births in California, 1959, Length: 366, dtype: int64"
      ]
     },
     "execution_count": 4,
     "metadata": {},
     "output_type": "execute_result"
    }
   ],
   "source": [
    "series_birth = read_csv(\"SeriesTemporais_Python/Download/Dados/female_birth.csv\", header=0, parse_dates=[0], index_col=0, squeeze=True)\n",
    "series_birth"
   ]
  },
  {
   "cell_type": "code",
   "execution_count": 5,
   "id": "487d0b2a-2c69-4e3b-bd2c-4b1503cfeb8e",
   "metadata": {},
   "outputs": [
    {
     "name": "stdout",
     "output_type": "stream",
     "text": [
      "Date\n",
      "1959-01-01    35\n",
      "1959-01-02    32\n",
      "1959-01-03    30\n",
      "1959-01-04    31\n",
      "1959-01-05    44\n",
      "Name: Daily total female births in California, 1959, dtype: int64\n"
     ]
    }
   ],
   "source": [
    "print(series_birth.head())"
   ]
  },
  {
   "cell_type": "code",
   "execution_count": 7,
   "id": "2195e5f3-fc11-46a6-92e5-04031638db8e",
   "metadata": {},
   "outputs": [
    {
     "name": "stdout",
     "output_type": "stream",
     "text": [
      "366\n"
     ]
    }
   ],
   "source": [
    "print(series_birth.size)"
   ]
  },
  {
   "cell_type": "code",
   "execution_count": 8,
   "id": "b78b7b19-4847-4021-aaea-04e70f34effe",
   "metadata": {},
   "outputs": [
    {
     "name": "stdout",
     "output_type": "stream",
     "text": [
      "count     366.000000\n",
      "mean       47.218579\n",
      "std       100.472534\n",
      "min        23.000000\n",
      "25%        37.000000\n",
      "50%        42.000000\n",
      "75%        46.000000\n",
      "max      1959.000000\n",
      "Name: Daily total female births in California, 1959, dtype: float64\n"
     ]
    }
   ],
   "source": [
    "print(series_birth.describe())"
   ]
  },
  {
   "cell_type": "code",
   "execution_count": null,
   "id": "cfb3dbf5-4223-4e6d-9ac2-3f6378edf459",
   "metadata": {},
   "outputs": [],
   "source": []
  }
 ],
 "metadata": {
  "kernelspec": {
   "display_name": "Python 3",
   "language": "python",
   "name": "python3"
  },
  "language_info": {
   "codemirror_mode": {
    "name": "ipython",
    "version": 3
   },
   "file_extension": ".py",
   "mimetype": "text/x-python",
   "name": "python",
   "nbconvert_exporter": "python",
   "pygments_lexer": "ipython3",
   "version": "3.8.8"
  }
 },
 "nbformat": 4,
 "nbformat_minor": 5
}
