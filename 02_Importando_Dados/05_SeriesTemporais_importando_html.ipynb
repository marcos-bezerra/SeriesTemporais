{
 "cells": [
  {
   "cell_type": "markdown",
   "id": "64db4f37-2ff0-442a-9c76-d149df4057c6",
   "metadata": {},
   "source": [
    "### Importando Dados HTML"
   ]
  },
  {
   "cell_type": "code",
   "execution_count": 3,
   "id": "34b5c738-561a-40b4-bab2-3c1054c69edf",
   "metadata": {},
   "outputs": [],
   "source": [
    "import html5lib\n",
    "import pandas as pd"
   ]
  },
  {
   "cell_type": "code",
   "execution_count": 4,
   "id": "f5aa9b76-b26d-4972-a7e4-abba50102b1c",
   "metadata": {},
   "outputs": [],
   "source": [
    "file_html = pd.read_html(\"https://pt.wikipedia.org/wiki/Unidades_federativas_do_Brasil\")"
   ]
  },
  {
   "cell_type": "code",
   "execution_count": 5,
   "id": "790c30fd-f0e0-4f41-8441-301a5dae2de5",
   "metadata": {},
   "outputs": [
    {
     "name": "stdout",
     "output_type": "stream",
     "text": [
      "<class 'list'>\n"
     ]
    }
   ],
   "source": [
    "print(type(file_html))"
   ]
  },
  {
   "cell_type": "code",
   "execution_count": 11,
   "id": "9b4b35f3-694d-4744-8055-26adc025e920",
   "metadata": {},
   "outputs": [
    {
     "name": "stdout",
     "output_type": "stream",
     "text": [
      "               0                                                  1  \\\n",
      "0     Capítulo I             Da Organização Político-Administrativa   \n",
      "1    Capítulo II                                           Da União   \n",
      "2   Capítulo III                              Dos Estados Federados   \n",
      "3    Capítulo IV                                     Dos Municípios   \n",
      "4     Capítulo V              Do Distrito Federal e dos Territórios   \n",
      "5        Seção I                                Do Distrito Federal   \n",
      "6       Seção II                                    Dos Territórios   \n",
      "7    Capítulo VI                                     Da Intervenção   \n",
      "8   Capítulo VII                           Da Administração Pública   \n",
      "9        Seção I                                 Disposições Gerais   \n",
      "10      Seção II                            Dos Servidores Públicos   \n",
      "11     Seção III  Dos Militares dos Estados, do Distrito Federal...   \n",
      "12      Seção IV                                        Das Regiões   \n",
      "\n",
      "             2  \n",
      "0   art. 18-19  \n",
      "1   art. 20-24  \n",
      "2   art. 25-28  \n",
      "3   art. 29-31  \n",
      "4   art. 32-33  \n",
      "5      art. 32  \n",
      "6      art. 33  \n",
      "7   art. 34-36  \n",
      "8   art. 37-43  \n",
      "9   art. 37-38  \n",
      "10  art. 39-41  \n",
      "11     art. 42  \n",
      "12     art. 43  \n"
     ]
    }
   ],
   "source": [
    "index_ = file_html[0]\n",
    "print(index_)"
   ]
  },
  {
   "cell_type": "code",
   "execution_count": 12,
   "id": "fdea018f-ad07-458b-acd7-d43993f0d55c",
   "metadata": {},
   "outputs": [],
   "source": [
    "file_bancos = pd.read_html(\"https://pt.wikipedia.org/wiki/Lista_dos_maiores_bancos_do_Brasil\")"
   ]
  },
  {
   "cell_type": "code",
   "execution_count": 16,
   "id": "62395c97-4ee0-459d-9f5e-63877d14444c",
   "metadata": {},
   "outputs": [
    {
     "data": {
      "text/html": [
       "<div>\n",
       "<style scoped>\n",
       "    .dataframe tbody tr th:only-of-type {\n",
       "        vertical-align: middle;\n",
       "    }\n",
       "\n",
       "    .dataframe tbody tr th {\n",
       "        vertical-align: top;\n",
       "    }\n",
       "\n",
       "    .dataframe thead th {\n",
       "        text-align: right;\n",
       "    }\n",
       "</style>\n",
       "<table border=\"1\" class=\"dataframe\">\n",
       "  <thead>\n",
       "    <tr style=\"text-align: right;\">\n",
       "      <th></th>\n",
       "      <th>Posição</th>\n",
       "      <th>Nome do banco</th>\n",
       "      <th>Cidade sede</th>\n",
       "      <th>Lucro em R$ (milhões)</th>\n",
       "      <th>Ano dos dados</th>\n",
       "      <th>País de origem</th>\n",
       "    </tr>\n",
       "  </thead>\n",
       "  <tbody>\n",
       "    <tr>\n",
       "      <th>0</th>\n",
       "      <td>1</td>\n",
       "      <td>Bradesco</td>\n",
       "      <td>Osasco</td>\n",
       "      <td>22.6235</td>\n",
       "      <td>2019</td>\n",
       "      <td>Brasil</td>\n",
       "    </tr>\n",
       "    <tr>\n",
       "      <th>1</th>\n",
       "      <td>2</td>\n",
       "      <td>Itaú Unibanco</td>\n",
       "      <td>São Paulo</td>\n",
       "      <td>22.1177</td>\n",
       "      <td>2019</td>\n",
       "      <td>Brasil</td>\n",
       "    </tr>\n",
       "    <tr>\n",
       "      <th>2</th>\n",
       "      <td>3</td>\n",
       "      <td>Caixa Econômica Federal</td>\n",
       "      <td>Osasco</td>\n",
       "      <td>17.4896</td>\n",
       "      <td>2019</td>\n",
       "      <td>Brasil</td>\n",
       "    </tr>\n",
       "    <tr>\n",
       "      <th>3</th>\n",
       "      <td>4</td>\n",
       "      <td>Banco do Brasil</td>\n",
       "      <td>São Paulo</td>\n",
       "      <td>15.6851</td>\n",
       "      <td>2019</td>\n",
       "      <td>Brasil</td>\n",
       "    </tr>\n",
       "    <tr>\n",
       "      <th>4</th>\n",
       "      <td>5</td>\n",
       "      <td>Santander Brasil</td>\n",
       "      <td>São Paulo</td>\n",
       "      <td>12.6092</td>\n",
       "      <td>2019</td>\n",
       "      <td>Espanha</td>\n",
       "    </tr>\n",
       "    <tr>\n",
       "      <th>5</th>\n",
       "      <td>6</td>\n",
       "      <td>BTG Pactual</td>\n",
       "      <td>São Paulo</td>\n",
       "      <td>3.5938</td>\n",
       "      <td>2019</td>\n",
       "      <td>Brasil</td>\n",
       "    </tr>\n",
       "    <tr>\n",
       "      <th>6</th>\n",
       "      <td>7</td>\n",
       "      <td>Sicoob</td>\n",
       "      <td>Brasília</td>\n",
       "      <td>3.0500</td>\n",
       "      <td>2019</td>\n",
       "      <td>Brasil</td>\n",
       "    </tr>\n",
       "    <tr>\n",
       "      <th>7</th>\n",
       "      <td>8</td>\n",
       "      <td>Banco Safra</td>\n",
       "      <td>São Paulo</td>\n",
       "      <td>1.9948</td>\n",
       "      <td>2019</td>\n",
       "      <td>Brasil</td>\n",
       "    </tr>\n",
       "    <tr>\n",
       "      <th>8</th>\n",
       "      <td>9</td>\n",
       "      <td>Banco do Nordeste</td>\n",
       "      <td>Fortaleza</td>\n",
       "      <td>1.5655</td>\n",
       "      <td>2019</td>\n",
       "      <td>Brasil</td>\n",
       "    </tr>\n",
       "    <tr>\n",
       "      <th>9</th>\n",
       "      <td>10</td>\n",
       "      <td>Banco Votorantim</td>\n",
       "      <td>São Paulo</td>\n",
       "      <td>1.1834</td>\n",
       "      <td>2019</td>\n",
       "      <td>Brasil</td>\n",
       "    </tr>\n",
       "    <tr>\n",
       "      <th>10</th>\n",
       "      <td>11</td>\n",
       "      <td>Banrisul</td>\n",
       "      <td>Porto Alegre</td>\n",
       "      <td>1.1483</td>\n",
       "      <td>2019</td>\n",
       "      <td>Brasil</td>\n",
       "    </tr>\n",
       "    <tr>\n",
       "      <th>11</th>\n",
       "      <td>12</td>\n",
       "      <td>Citibank Brasil</td>\n",
       "      <td>São Paulo</td>\n",
       "      <td>9577.0000</td>\n",
       "      <td>2019</td>\n",
       "      <td>Estados Unidos</td>\n",
       "    </tr>\n",
       "  </tbody>\n",
       "</table>\n",
       "</div>"
      ],
      "text/plain": [
       "    Posição            Nome do banco   Cidade sede  Lucro em R$ (milhões)  \\\n",
       "0         1                 Bradesco        Osasco                22.6235   \n",
       "1         2            Itaú Unibanco     São Paulo                22.1177   \n",
       "2         3  Caixa Econômica Federal        Osasco                17.4896   \n",
       "3         4          Banco do Brasil     São Paulo                15.6851   \n",
       "4         5         Santander Brasil     São Paulo                12.6092   \n",
       "5         6              BTG Pactual     São Paulo                 3.5938   \n",
       "6         7                   Sicoob      Brasília                 3.0500   \n",
       "7         8              Banco Safra     São Paulo                 1.9948   \n",
       "8         9        Banco do Nordeste     Fortaleza                 1.5655   \n",
       "9        10         Banco Votorantim     São Paulo                 1.1834   \n",
       "10       11                 Banrisul  Porto Alegre                 1.1483   \n",
       "11       12          Citibank Brasil     São Paulo              9577.0000   \n",
       "\n",
       "    Ano dos dados  País de origem  \n",
       "0            2019          Brasil  \n",
       "1            2019          Brasil  \n",
       "2            2019          Brasil  \n",
       "3            2019          Brasil  \n",
       "4            2019         Espanha  \n",
       "5            2019          Brasil  \n",
       "6            2019          Brasil  \n",
       "7            2019          Brasil  \n",
       "8            2019          Brasil  \n",
       "9            2019          Brasil  \n",
       "10           2019          Brasil  \n",
       "11           2019  Estados Unidos  "
      ]
     },
     "execution_count": 16,
     "metadata": {},
     "output_type": "execute_result"
    }
   ],
   "source": [
    "file_bancos[3]"
   ]
  },
  {
   "cell_type": "code",
   "execution_count": null,
   "id": "1d7ede8b-7008-40ae-8468-4878b0eee6f6",
   "metadata": {},
   "outputs": [],
   "source": []
  }
 ],
 "metadata": {
  "kernelspec": {
   "display_name": "Python 3",
   "language": "python",
   "name": "python3"
  },
  "language_info": {
   "codemirror_mode": {
    "name": "ipython",
    "version": 3
   },
   "file_extension": ".py",
   "mimetype": "text/x-python",
   "name": "python",
   "nbconvert_exporter": "python",
   "pygments_lexer": "ipython3",
   "version": "3.8.8"
  }
 },
 "nbformat": 4,
 "nbformat_minor": 5
}
