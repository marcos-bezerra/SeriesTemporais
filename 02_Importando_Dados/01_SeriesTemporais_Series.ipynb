{
 "cells": [
  {
   "cell_type": "markdown",
   "id": "eb05abd1-d6e3-4837-ae4a-f28d3faf5a82",
   "metadata": {},
   "source": [
    "### Séries com pandas"
   ]
  },
  {
   "cell_type": "code",
   "execution_count": 1,
   "id": "sonic-creation",
   "metadata": {},
   "outputs": [],
   "source": [
    "import pandas as pd"
   ]
  },
  {
   "cell_type": "code",
   "execution_count": 2,
   "id": "planned-airport",
   "metadata": {},
   "outputs": [],
   "source": [
    "dict_ = {'a':3, 'b':'cat', 'c':25}"
   ]
  },
  {
   "cell_type": "code",
   "execution_count": 3,
   "id": "configured-election",
   "metadata": {},
   "outputs": [
    {
     "data": {
      "text/plain": [
       "a      3\n",
       "b    cat\n",
       "c     25\n",
       "dtype: object"
      ]
     },
     "execution_count": 3,
     "metadata": {},
     "output_type": "execute_result"
    }
   ],
   "source": [
    "pd.Series(dict_)"
   ]
  },
  {
   "cell_type": "code",
   "execution_count": 4,
   "id": "reasonable-encyclopedia",
   "metadata": {},
   "outputs": [
    {
     "data": {
      "text/plain": [
       "Amy       11\n",
       "Bobby    cat\n",
       "Cat      310\n",
       "Dog      hog\n",
       "Emma     500\n",
       "dtype: object"
      ]
     },
     "execution_count": 4,
     "metadata": {},
     "output_type": "execute_result"
    }
   ],
   "source": [
    "series = pd.Series([11,'cat', 310 , 'hog', 500],\n",
    "                   index = ['Amy', 'Bobby', 'Cat', 'Dog', 'Emma'])\n",
    "series"
   ]
  },
  {
   "cell_type": "code",
   "execution_count": 5,
   "id": "reliable-passing",
   "metadata": {},
   "outputs": [
    {
     "data": {
      "text/plain": [
       "Amy      11\n",
       "Cat     310\n",
       "Emma    500\n",
       "dtype: object"
      ]
     },
     "execution_count": 5,
     "metadata": {},
     "output_type": "execute_result"
    }
   ],
   "source": [
    "# localizando um valor pelo index\n",
    "series.loc[['Amy','Cat','Emma']]"
   ]
  },
  {
   "cell_type": "code",
   "execution_count": 6,
   "id": "fifty-philip",
   "metadata": {},
   "outputs": [
    {
     "data": {
      "text/plain": [
       "11"
      ]
     },
     "execution_count": 6,
     "metadata": {},
     "output_type": "execute_result"
    }
   ],
   "source": [
    "# localizando um valor pela posição\n",
    "series.iloc[0]"
   ]
  },
  {
   "cell_type": "code",
   "execution_count": 7,
   "id": "acknowledged-herald",
   "metadata": {},
   "outputs": [
    {
     "data": {
      "text/plain": [
       "False"
      ]
     },
     "execution_count": 7,
     "metadata": {},
     "output_type": "execute_result"
    }
   ],
   "source": [
    "# validando se um valor está na Série\n",
    "'cat' in series"
   ]
  },
  {
   "cell_type": "code",
   "execution_count": 8,
   "id": "differential-partner",
   "metadata": {},
   "outputs": [
    {
     "data": {
      "text/plain": [
       "True"
      ]
     },
     "execution_count": 8,
     "metadata": {},
     "output_type": "execute_result"
    }
   ],
   "source": [
    "'Cat' in series"
   ]
  },
  {
   "cell_type": "code",
   "execution_count": null,
   "id": "1b8f9787-c4c5-4980-bf84-4a545f4cc73f",
   "metadata": {},
   "outputs": [],
   "source": []
  }
 ],
 "metadata": {
  "kernelspec": {
   "display_name": "Python 3",
   "language": "python",
   "name": "python3"
  },
  "language_info": {
   "codemirror_mode": {
    "name": "ipython",
    "version": 3
   },
   "file_extension": ".py",
   "mimetype": "text/x-python",
   "name": "python",
   "nbconvert_exporter": "python",
   "pygments_lexer": "ipython3",
   "version": "3.8.8"
  }
 },
 "nbformat": 4,
 "nbformat_minor": 5
}
