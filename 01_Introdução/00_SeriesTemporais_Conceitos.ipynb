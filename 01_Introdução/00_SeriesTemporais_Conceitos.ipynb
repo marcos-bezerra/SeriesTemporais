{
 "cells": [
  {
   "cell_type": "raw",
   "id": "changed-program",
   "metadata": {},
   "source": [
    "Séries temporais são dados coletados em intervalos regulares de tempo\n",
    "A série temporal possui dependência direta da ordem\n",
    "\n",
    "=> o cadastro de cliente não é uma série temporal, mas a quantidade de clientes cadastrados por dia é"
   ]
  },
  {
   "cell_type": "raw",
   "id": "cardiac-theme",
   "metadata": {},
   "source": [
    "Componentes e Padrões\n",
    "1. Tendência: aumento ou redução a longo prazo\n",
    "2. Sazonalidade: padrões que ocorrem em intervalos fixo\n",
    "3. Ciclo: aumento ou redução de frequência sem intervalos fixos\n",
    "4. Erro (restante): aquilo que não é explicado pelos componentes e padrões de uma série temporal"
   ]
  },
  {
   "cell_type": "raw",
   "id": "restricted-gallery",
   "metadata": {},
   "source": [
    "Autocorrelação\n",
    ". mede se existe uma relação matemática entre os intervalos da série temporal\n",
    ". também deve estar entre 1 e -1, sendo zero a ausência de autocorrelação"
   ]
  },
  {
   "cell_type": "raw",
   "id": "desperate-taste",
   "metadata": {},
   "source": [
    "Medida em intervalos (lag)\n",
    ". de 1 intervalo: mede como valores de 1 período distantes estão relacionados\n",
    ". de 2 intervalos: mede como valores de 2 período distantes estão relacionados"
   ]
  },
  {
   "cell_type": "raw",
   "id": "administrative-dakota",
   "metadata": {},
   "source": [
    "Autocorrelação - ACF\n",
    ". mostra a autocorrelação em uma série temporal"
   ]
  },
  {
   "cell_type": "raw",
   "id": "academic-feeling",
   "metadata": {},
   "source": [
    "Com sazonalidade e Tendência\n",
    ". com tendência: tende a ser grande e positiva\n",
    ". com sazonalidade: tende a ser maior nos intervalos com maiores valores"
   ]
  },
  {
   "cell_type": "raw",
   "id": "suffering-membrane",
   "metadata": {},
   "source": [
    "Ruído Branco (White Noise)\n",
    ". série temporal que não apresenta autocorrelação\n",
    ". se mais de 5% dos intervalos estiverem fora da linha azul, não é white noise"
   ]
  },
  {
   "cell_type": "raw",
   "id": "capital-occasion",
   "metadata": {},
   "source": [
    "Erro\n",
    ". diferenças entre os valores previstos e o fato observado\n",
    ". pode ser medido:\n",
    "    . aguardar o acontecimento\n",
    "    . separar dados entre treino e teste (hold out)\n",
    "    . criar modelo e comparar os próprios dados\n",
    ". métricas:\n",
    "    . MAE\n",
    "    . RMSE\n",
    "    . MASE\n",
    "    . MAPE"
   ]
  },
  {
   "cell_type": "raw",
   "id": "surprised-somalia",
   "metadata": {},
   "source": [
    "Residuais: pressupostos para previsão\n",
    ". não devem estar relacionados (autocorrelação) - se existe autocorrelação, existe informação nos resíduos que deveria ser utilizada na previsão\n",
    ". média deve ser zero (aproximadamente)\n",
    ". variância constante\n",
    ". distribuídos normalmente"
   ]
  },
  {
   "cell_type": "raw",
   "id": "filled-exhibit",
   "metadata": {},
   "source": [
    "Decomposição\n",
    "Processo de serar componentes de uma série temporal\n",
    ". vantagens: compreensão da série e previsão"
   ]
  },
  {
   "cell_type": "markdown",
   "id": "experimental-perspective",
   "metadata": {},
   "source": [
    "<img src=\"decomposicao.png\">"
   ]
  },
  {
   "cell_type": "code",
   "execution_count": null,
   "id": "a723f4c9-0f84-42a9-8974-016e50743b9c",
   "metadata": {},
   "outputs": [],
   "source": []
  }
 ],
 "metadata": {
  "kernelspec": {
   "display_name": "Python 3",
   "language": "python",
   "name": "python3"
  },
  "language_info": {
   "codemirror_mode": {
    "name": "ipython",
    "version": 3
   },
   "file_extension": ".py",
   "mimetype": "text/x-python",
   "name": "python",
   "nbconvert_exporter": "python",
   "pygments_lexer": "ipython3",
   "version": "3.8.8"
  }
 },
 "nbformat": 4,
 "nbformat_minor": 5
}
